{
 "cells": [
  {
   "cell_type": "code",
   "execution_count": 1,
   "id": "cc59c696",
   "metadata": {},
   "outputs": [],
   "source": [
    "import pandas as pd\n",
    "import numpy as np\n",
    "import matplotlib.pyplot as plt "
   ]
  },
  {
   "cell_type": "code",
   "execution_count": 2,
   "id": "67eb3718",
   "metadata": {},
   "outputs": [],
   "source": [
    "df = pd.read_csv(r\"C:\\Users\\sande\\OneDrive\\Desktop\\MMSO\\Machine Learning\\Country-data.csv\")"
   ]
  },
  {
   "cell_type": "code",
   "execution_count": 3,
   "id": "0808352b",
   "metadata": {},
   "outputs": [
    {
     "data": {
      "text/html": [
       "<div>\n",
       "<style scoped>\n",
       "    .dataframe tbody tr th:only-of-type {\n",
       "        vertical-align: middle;\n",
       "    }\n",
       "\n",
       "    .dataframe tbody tr th {\n",
       "        vertical-align: top;\n",
       "    }\n",
       "\n",
       "    .dataframe thead th {\n",
       "        text-align: right;\n",
       "    }\n",
       "</style>\n",
       "<table border=\"1\" class=\"dataframe\">\n",
       "  <thead>\n",
       "    <tr style=\"text-align: right;\">\n",
       "      <th></th>\n",
       "      <th>country</th>\n",
       "      <th>child_mort</th>\n",
       "      <th>exports</th>\n",
       "      <th>health</th>\n",
       "      <th>imports</th>\n",
       "      <th>income</th>\n",
       "      <th>inflation</th>\n",
       "      <th>life_expec</th>\n",
       "      <th>total_fer</th>\n",
       "      <th>gdpp</th>\n",
       "    </tr>\n",
       "  </thead>\n",
       "  <tbody>\n",
       "    <tr>\n",
       "      <th>0</th>\n",
       "      <td>Afghanistan</td>\n",
       "      <td>90.2</td>\n",
       "      <td>10.0</td>\n",
       "      <td>7.58</td>\n",
       "      <td>44.9</td>\n",
       "      <td>1610</td>\n",
       "      <td>9.44</td>\n",
       "      <td>56.2</td>\n",
       "      <td>5.82</td>\n",
       "      <td>553</td>\n",
       "    </tr>\n",
       "    <tr>\n",
       "      <th>1</th>\n",
       "      <td>Albania</td>\n",
       "      <td>16.6</td>\n",
       "      <td>28.0</td>\n",
       "      <td>6.55</td>\n",
       "      <td>48.6</td>\n",
       "      <td>9930</td>\n",
       "      <td>4.49</td>\n",
       "      <td>76.3</td>\n",
       "      <td>1.65</td>\n",
       "      <td>4090</td>\n",
       "    </tr>\n",
       "    <tr>\n",
       "      <th>2</th>\n",
       "      <td>Algeria</td>\n",
       "      <td>27.3</td>\n",
       "      <td>38.4</td>\n",
       "      <td>4.17</td>\n",
       "      <td>31.4</td>\n",
       "      <td>12900</td>\n",
       "      <td>16.10</td>\n",
       "      <td>76.5</td>\n",
       "      <td>2.89</td>\n",
       "      <td>4460</td>\n",
       "    </tr>\n",
       "    <tr>\n",
       "      <th>3</th>\n",
       "      <td>Angola</td>\n",
       "      <td>119.0</td>\n",
       "      <td>62.3</td>\n",
       "      <td>2.85</td>\n",
       "      <td>42.9</td>\n",
       "      <td>5900</td>\n",
       "      <td>22.40</td>\n",
       "      <td>60.1</td>\n",
       "      <td>6.16</td>\n",
       "      <td>3530</td>\n",
       "    </tr>\n",
       "    <tr>\n",
       "      <th>4</th>\n",
       "      <td>Antigua and Barbuda</td>\n",
       "      <td>10.3</td>\n",
       "      <td>45.5</td>\n",
       "      <td>6.03</td>\n",
       "      <td>58.9</td>\n",
       "      <td>19100</td>\n",
       "      <td>1.44</td>\n",
       "      <td>76.8</td>\n",
       "      <td>2.13</td>\n",
       "      <td>12200</td>\n",
       "    </tr>\n",
       "  </tbody>\n",
       "</table>\n",
       "</div>"
      ],
      "text/plain": [
       "               country  child_mort  exports  health  imports  income  \\\n",
       "0          Afghanistan        90.2     10.0    7.58     44.9    1610   \n",
       "1              Albania        16.6     28.0    6.55     48.6    9930   \n",
       "2              Algeria        27.3     38.4    4.17     31.4   12900   \n",
       "3               Angola       119.0     62.3    2.85     42.9    5900   \n",
       "4  Antigua and Barbuda        10.3     45.5    6.03     58.9   19100   \n",
       "\n",
       "   inflation  life_expec  total_fer   gdpp  \n",
       "0       9.44        56.2       5.82    553  \n",
       "1       4.49        76.3       1.65   4090  \n",
       "2      16.10        76.5       2.89   4460  \n",
       "3      22.40        60.1       6.16   3530  \n",
       "4       1.44        76.8       2.13  12200  "
      ]
     },
     "execution_count": 3,
     "metadata": {},
     "output_type": "execute_result"
    }
   ],
   "source": [
    "df.head()"
   ]
  },
  {
   "cell_type": "code",
   "execution_count": 4,
   "id": "5a44ce5e",
   "metadata": {},
   "outputs": [],
   "source": [
    "from sklearn.cluster import DBSCAN"
   ]
  },
  {
   "cell_type": "code",
   "execution_count": 5,
   "id": "cdc4344a",
   "metadata": {},
   "outputs": [],
   "source": [
    "from sklearn.preprocessing import StandardScaler"
   ]
  },
  {
   "cell_type": "code",
   "execution_count": 6,
   "id": "1d8efbbd",
   "metadata": {},
   "outputs": [],
   "source": [
    "ds = df.drop('country', axis =1)"
   ]
  },
  {
   "cell_type": "code",
   "execution_count": 7,
   "id": "0aa3d8bd",
   "metadata": {},
   "outputs": [
    {
     "data": {
      "text/html": [
       "<div>\n",
       "<style scoped>\n",
       "    .dataframe tbody tr th:only-of-type {\n",
       "        vertical-align: middle;\n",
       "    }\n",
       "\n",
       "    .dataframe tbody tr th {\n",
       "        vertical-align: top;\n",
       "    }\n",
       "\n",
       "    .dataframe thead th {\n",
       "        text-align: right;\n",
       "    }\n",
       "</style>\n",
       "<table border=\"1\" class=\"dataframe\">\n",
       "  <thead>\n",
       "    <tr style=\"text-align: right;\">\n",
       "      <th></th>\n",
       "      <th>child_mort</th>\n",
       "      <th>exports</th>\n",
       "      <th>health</th>\n",
       "      <th>imports</th>\n",
       "      <th>income</th>\n",
       "      <th>inflation</th>\n",
       "      <th>life_expec</th>\n",
       "      <th>total_fer</th>\n",
       "      <th>gdpp</th>\n",
       "    </tr>\n",
       "  </thead>\n",
       "  <tbody>\n",
       "    <tr>\n",
       "      <th>0</th>\n",
       "      <td>90.2</td>\n",
       "      <td>10.0</td>\n",
       "      <td>7.58</td>\n",
       "      <td>44.9</td>\n",
       "      <td>1610</td>\n",
       "      <td>9.44</td>\n",
       "      <td>56.2</td>\n",
       "      <td>5.82</td>\n",
       "      <td>553</td>\n",
       "    </tr>\n",
       "    <tr>\n",
       "      <th>1</th>\n",
       "      <td>16.6</td>\n",
       "      <td>28.0</td>\n",
       "      <td>6.55</td>\n",
       "      <td>48.6</td>\n",
       "      <td>9930</td>\n",
       "      <td>4.49</td>\n",
       "      <td>76.3</td>\n",
       "      <td>1.65</td>\n",
       "      <td>4090</td>\n",
       "    </tr>\n",
       "    <tr>\n",
       "      <th>2</th>\n",
       "      <td>27.3</td>\n",
       "      <td>38.4</td>\n",
       "      <td>4.17</td>\n",
       "      <td>31.4</td>\n",
       "      <td>12900</td>\n",
       "      <td>16.10</td>\n",
       "      <td>76.5</td>\n",
       "      <td>2.89</td>\n",
       "      <td>4460</td>\n",
       "    </tr>\n",
       "    <tr>\n",
       "      <th>3</th>\n",
       "      <td>119.0</td>\n",
       "      <td>62.3</td>\n",
       "      <td>2.85</td>\n",
       "      <td>42.9</td>\n",
       "      <td>5900</td>\n",
       "      <td>22.40</td>\n",
       "      <td>60.1</td>\n",
       "      <td>6.16</td>\n",
       "      <td>3530</td>\n",
       "    </tr>\n",
       "    <tr>\n",
       "      <th>4</th>\n",
       "      <td>10.3</td>\n",
       "      <td>45.5</td>\n",
       "      <td>6.03</td>\n",
       "      <td>58.9</td>\n",
       "      <td>19100</td>\n",
       "      <td>1.44</td>\n",
       "      <td>76.8</td>\n",
       "      <td>2.13</td>\n",
       "      <td>12200</td>\n",
       "    </tr>\n",
       "    <tr>\n",
       "      <th>...</th>\n",
       "      <td>...</td>\n",
       "      <td>...</td>\n",
       "      <td>...</td>\n",
       "      <td>...</td>\n",
       "      <td>...</td>\n",
       "      <td>...</td>\n",
       "      <td>...</td>\n",
       "      <td>...</td>\n",
       "      <td>...</td>\n",
       "    </tr>\n",
       "    <tr>\n",
       "      <th>162</th>\n",
       "      <td>29.2</td>\n",
       "      <td>46.6</td>\n",
       "      <td>5.25</td>\n",
       "      <td>52.7</td>\n",
       "      <td>2950</td>\n",
       "      <td>2.62</td>\n",
       "      <td>63.0</td>\n",
       "      <td>3.50</td>\n",
       "      <td>2970</td>\n",
       "    </tr>\n",
       "    <tr>\n",
       "      <th>163</th>\n",
       "      <td>17.1</td>\n",
       "      <td>28.5</td>\n",
       "      <td>4.91</td>\n",
       "      <td>17.6</td>\n",
       "      <td>16500</td>\n",
       "      <td>45.90</td>\n",
       "      <td>75.4</td>\n",
       "      <td>2.47</td>\n",
       "      <td>13500</td>\n",
       "    </tr>\n",
       "    <tr>\n",
       "      <th>164</th>\n",
       "      <td>23.3</td>\n",
       "      <td>72.0</td>\n",
       "      <td>6.84</td>\n",
       "      <td>80.2</td>\n",
       "      <td>4490</td>\n",
       "      <td>12.10</td>\n",
       "      <td>73.1</td>\n",
       "      <td>1.95</td>\n",
       "      <td>1310</td>\n",
       "    </tr>\n",
       "    <tr>\n",
       "      <th>165</th>\n",
       "      <td>56.3</td>\n",
       "      <td>30.0</td>\n",
       "      <td>5.18</td>\n",
       "      <td>34.4</td>\n",
       "      <td>4480</td>\n",
       "      <td>23.60</td>\n",
       "      <td>67.5</td>\n",
       "      <td>4.67</td>\n",
       "      <td>1310</td>\n",
       "    </tr>\n",
       "    <tr>\n",
       "      <th>166</th>\n",
       "      <td>83.1</td>\n",
       "      <td>37.0</td>\n",
       "      <td>5.89</td>\n",
       "      <td>30.9</td>\n",
       "      <td>3280</td>\n",
       "      <td>14.00</td>\n",
       "      <td>52.0</td>\n",
       "      <td>5.40</td>\n",
       "      <td>1460</td>\n",
       "    </tr>\n",
       "  </tbody>\n",
       "</table>\n",
       "<p>167 rows × 9 columns</p>\n",
       "</div>"
      ],
      "text/plain": [
       "     child_mort  exports  health  imports  income  inflation  life_expec  \\\n",
       "0          90.2     10.0    7.58     44.9    1610       9.44        56.2   \n",
       "1          16.6     28.0    6.55     48.6    9930       4.49        76.3   \n",
       "2          27.3     38.4    4.17     31.4   12900      16.10        76.5   \n",
       "3         119.0     62.3    2.85     42.9    5900      22.40        60.1   \n",
       "4          10.3     45.5    6.03     58.9   19100       1.44        76.8   \n",
       "..          ...      ...     ...      ...     ...        ...         ...   \n",
       "162        29.2     46.6    5.25     52.7    2950       2.62        63.0   \n",
       "163        17.1     28.5    4.91     17.6   16500      45.90        75.4   \n",
       "164        23.3     72.0    6.84     80.2    4490      12.10        73.1   \n",
       "165        56.3     30.0    5.18     34.4    4480      23.60        67.5   \n",
       "166        83.1     37.0    5.89     30.9    3280      14.00        52.0   \n",
       "\n",
       "     total_fer   gdpp  \n",
       "0         5.82    553  \n",
       "1         1.65   4090  \n",
       "2         2.89   4460  \n",
       "3         6.16   3530  \n",
       "4         2.13  12200  \n",
       "..         ...    ...  \n",
       "162       3.50   2970  \n",
       "163       2.47  13500  \n",
       "164       1.95   1310  \n",
       "165       4.67   1310  \n",
       "166       5.40   1460  \n",
       "\n",
       "[167 rows x 9 columns]"
      ]
     },
     "execution_count": 7,
     "metadata": {},
     "output_type": "execute_result"
    }
   ],
   "source": [
    "ds"
   ]
  },
  {
   "cell_type": "code",
   "execution_count": 8,
   "id": "687fb821",
   "metadata": {},
   "outputs": [
    {
     "data": {
      "text/plain": [
       "StandardScaler()"
      ]
     },
     "execution_count": 8,
     "metadata": {},
     "output_type": "execute_result"
    }
   ],
   "source": [
    "scaler = StandardScaler()\n",
    "scaler.fit(ds)"
   ]
  },
  {
   "cell_type": "code",
   "execution_count": 9,
   "id": "85ab1cea",
   "metadata": {},
   "outputs": [],
   "source": [
    "scaled_data = scaler.transform(ds)"
   ]
  },
  {
   "cell_type": "code",
   "execution_count": 10,
   "id": "833942a8",
   "metadata": {},
   "outputs": [],
   "source": [
    "from sklearn.decomposition import PCA"
   ]
  },
  {
   "cell_type": "code",
   "execution_count": 11,
   "id": "99cee411",
   "metadata": {},
   "outputs": [],
   "source": [
    "pca = PCA(n_components=2)"
   ]
  },
  {
   "cell_type": "code",
   "execution_count": 12,
   "id": "cb3a334e",
   "metadata": {},
   "outputs": [
    {
     "data": {
      "text/plain": [
       "PCA(n_components=2)"
      ]
     },
     "execution_count": 12,
     "metadata": {},
     "output_type": "execute_result"
    }
   ],
   "source": [
    "pca.fit(scaled_data)"
   ]
  },
  {
   "cell_type": "code",
   "execution_count": 13,
   "id": "3769e792",
   "metadata": {},
   "outputs": [],
   "source": [
    "paxis = pca.transform(scaled_data)"
   ]
  },
  {
   "cell_type": "code",
   "execution_count": 14,
   "id": "3cddac45",
   "metadata": {},
   "outputs": [
    {
     "data": {
      "text/plain": [
       "Text(0, 0.5, 'PCA 2')"
      ]
     },
     "execution_count": 14,
     "metadata": {},
     "output_type": "execute_result"
    },
    {
     "data": {
      "image/png": "[encoded data removed]",
      "text/plain": [
       "<Figure size 640x480 with 1 Axes>"
      ]
     },
     "metadata": {},
     "output_type": "display_data"
    }
   ],
   "source": [
    "plt.scatter(paxis[:,0],paxis[:,1])\n",
    "plt.xlabel('PCA 1')\n",
    "plt.ylabel('PCA 2')"
   ]
  },
  {
   "cell_type": "code",
   "execution_count": 15,
   "id": "95d7ed0e",
   "metadata": {},
   "outputs": [
    {
     "data": {
      "text/plain": [
       "array([[-2.91302459e+00,  9.56205755e-02],\n",
       "       [ 4.29911330e-01, -5.88155666e-01],\n",
       "       [-2.85225077e-01, -4.55174413e-01],\n",
       "       [-2.93242265e+00,  1.69555507e+00],\n",
       "       [ 1.03357587e+00,  1.36658709e-01],\n",
       "       [ 2.24072616e-02, -1.77918658e+00],\n",
       "       [-1.01583737e-01, -5.68251724e-01],\n",
       "       [ 2.34216461e+00, -1.98845915e+00],\n",
       "       [ 2.97376366e+00, -7.34688659e-01],\n",
       "       [-1.81486997e-01, -4.02865873e-01],\n",
       "       [ 1.26874386e+00, -6.56588363e-01],\n",
       "       [ 1.67099640e+00,  5.61162493e-01],\n",
       "       [-1.12385093e+00, -9.61397405e-01],\n",
       "       [ 1.08137420e+00, -4.81969530e-01],\n",
       "       [ 5.80025152e-01,  5.35326834e-01],\n",
       "       [ 3.14378596e+00,  6.63547921e-01],\n",
       "       [ 2.11255447e-01,  6.99242662e-01],\n",
       "       [-2.67231388e+00,  4.18172125e-01],\n",
       "       [-1.56570962e-01,  7.77395617e-01],\n",
       "       [-7.93851561e-01, -1.20261085e-01],\n",
       "       [ 9.95867143e-01, -9.71888439e-01],\n",
       "       [-8.82087639e-01,  4.57368180e-01],\n",
       "       [ 1.40781361e-01, -2.15107731e+00],\n",
       "       [ 2.46008609e+00,  1.64540436e-02],\n",
       "       [ 9.06594515e-01,  3.02776054e-02],\n",
       "       [-3.12205344e+00,  3.87749688e-02],\n",
       "       [-2.89897068e+00, -4.22663328e-01],\n",
       "       [-5.82411867e-01,  8.94820332e-01],\n",
       "       [-2.80790857e+00,  7.86488969e-02],\n",
       "       [ 2.54363055e+00, -1.72709470e+00],\n",
       "       [-1.55801452e-01,  3.51235458e-01],\n",
       "       [-3.96496402e+00,  3.86619319e-01],\n",
       "       [-3.55755520e+00,  1.28912809e+00],\n",
       "       [ 9.51656055e-01, -1.07642827e+00],\n",
       "       [ 5.74819803e-02, -1.18999652e+00],\n",
       "       [ 1.21146120e-01, -1.76890914e+00],\n",
       "       [-2.09355643e+00,  3.43600988e-01],\n",
       "       [-3.17337012e+00,  1.05038163e+00],\n",
       "       [-1.72567641e+00,  2.17634895e+00],\n",
       "       [ 9.37826615e-01, -1.35047238e+00],\n",
       "       [-2.58170623e+00,  1.20787342e+00],\n",
       "       [ 1.14886344e+00, -8.44812046e-01],\n",
       "       [ 2.17445492e+00, -4.51044737e-03],\n",
       "       [ 2.05326329e+00,  4.23198280e-01],\n",
       "       [ 3.01049182e+00, -8.65548729e-01],\n",
       "       [-2.31102923e-01, -8.80641302e-01],\n",
       "       [ 9.61833240e-03, -1.04522097e+00],\n",
       "       [-8.48186699e-01, -8.19818902e-01],\n",
       "       [ 8.18678445e-02, -5.67803943e-01],\n",
       "       [-1.29342284e+00,  2.36369455e+00],\n",
       "       [-2.47469590e+00, -6.18025236e-01],\n",
       "       [ 1.65908340e+00,  1.02156447e+00],\n",
       "       [-1.88828409e-01,  1.07176458e+00],\n",
       "       [ 2.45896019e+00, -1.07614294e+00],\n",
       "       [ 2.25427080e+00, -1.86663813e+00],\n",
       "       [-1.42171455e+00,  3.19723358e-01],\n",
       "       [-2.21366958e+00,  2.23495896e-01],\n",
       "       [ 3.21942207e-01, -5.18255225e-01],\n",
       "       [ 2.67142195e+00, -1.27360990e+00],\n",
       "       [-2.05416693e+00,  3.80034393e-01],\n",
       "       [ 1.77949294e+00, -1.76539693e+00],\n",
       "       [ 1.45504799e-01, -4.31336366e-01],\n",
       "       [-6.63503125e-01, -6.13910837e-01],\n",
       "       [-2.96952947e+00,  7.28533786e-01],\n",
       "       [-2.83361647e+00, -9.11281950e-02],\n",
       "       [-3.22781465e-01,  1.36134136e+00],\n",
       "       [-4.40971727e+00,  1.74223049e+00],\n",
       "       [ 1.83916013e+00,  1.27296493e+00],\n",
       "       [ 2.48092396e+00, -6.34701926e-01],\n",
       "       [-1.34282579e+00, -5.35138946e-01],\n",
       "       [-9.54750124e-01, -7.32361786e-01],\n",
       "       [-1.06461193e-03, -1.33434959e+00],\n",
       "       [-1.02922816e+00, -2.83269323e-01],\n",
       "       [ 3.66862804e+00,  1.72949317e+00],\n",
       "       [ 1.48531666e+00, -1.04922436e+00],\n",
       "       [ 2.16580995e+00, -1.77248548e+00],\n",
       "       [ 1.86093002e-02, -2.38961304e-01],\n",
       "       [ 2.26588199e+00, -2.43559383e+00],\n",
       "       [ 1.60142643e-01,  5.41065172e-01],\n",
       "       [-2.93346500e-01, -2.37525434e-01],\n",
       "       [-1.87470247e+00, -1.71029967e-01],\n",
       "       [-1.23921686e+00,  3.69138411e-01],\n",
       "       [ 2.46565870e+00,  8.80497785e-02],\n",
       "       [-3.39969880e-01,  1.29819641e+00],\n",
       "       [-1.52776995e+00,  5.45786891e-01],\n",
       "       [ 1.18883984e+00,  1.62040035e-01],\n",
       "       [ 1.17199076e+00, -2.56295112e-01],\n",
       "       [-1.80315140e+00,  2.03785098e+00],\n",
       "       [-1.77358023e+00,  1.05339867e+00],\n",
       "       [ 8.18943051e-01,  3.89841660e-01],\n",
       "       [ 1.40978812e+00,  7.29833198e-01],\n",
       "       [ 6.91775496e+00,  4.84984369e+00],\n",
       "       [ 7.33210319e-01, -9.48674314e-02],\n",
       "       [-2.13600867e+00,  3.42733042e-01],\n",
       "       [-2.97988525e+00,  2.16622419e-01],\n",
       "       [ 1.23082842e+00,  1.60174864e+00],\n",
       "       [ 1.10860101e+00,  1.00931426e+00],\n",
       "       [-3.41225513e+00,  5.61468514e-01],\n",
       "       [ 3.67954260e+00,  4.76548605e+00],\n",
       "       [-1.95392747e+00,  1.38338452e+00],\n",
       "       [ 8.99775055e-01,  4.16479781e-01],\n",
       "       [-3.80928795e-01,  1.01773629e-01],\n",
       "       [ 5.09539453e-01,  1.61658340e-01],\n",
       "       [-9.44975538e-01,  5.29799562e-01],\n",
       "       [ 1.02668389e+00, -2.57641566e-01],\n",
       "       [-2.32870156e-01, -2.81027769e-01],\n",
       "       [-2.92054051e+00,  8.93270294e-01],\n",
       "       [-1.83719774e+00, -1.61366899e+00],\n",
       "       [-1.04337471e+00,  1.00284112e+00],\n",
       "       [-1.30708985e+00, -7.89048631e-01],\n",
       "       [ 3.37915727e+00,  1.15702442e-01],\n",
       "       [ 1.81574666e+00, -1.58472369e+00],\n",
       "       [-3.45016774e+00,  9.69922452e-01],\n",
       "       [-4.91206615e+00, -9.44986846e-02],\n",
       "       [ 3.72119513e+00, -1.44725498e+00],\n",
       "       [ 1.12738665e+00,  4.91611136e-01],\n",
       "       [-2.36034718e+00, -4.79399646e-01],\n",
       "       [ 1.16378429e+00,  1.11527620e+00],\n",
       "       [ 1.17846224e-01,  3.61031140e-01],\n",
       "       [-2.06354519e-02, -1.08661741e+00],\n",
       "       [-7.82745871e-01, -9.64980905e-02],\n",
       "       [ 1.21782754e+00, -6.59168961e-01],\n",
       "       [ 1.81406748e+00, -1.45088654e+00],\n",
       "       [ 4.24229634e+00, -1.95603674e-01],\n",
       "       [ 5.72792704e-01, -6.37384843e-01],\n",
       "       [ 1.63761544e-01, -1.06667848e+00],\n",
       "       [-1.67970356e+00, -1.00162862e+00],\n",
       "       [-5.62897632e-01, -2.21043960e-02],\n",
       "       [ 8.55935813e-01, -1.83440759e-01],\n",
       "       [-1.91217031e+00,  9.15599347e-02],\n",
       "       [ 8.32420187e-01, -8.69325996e-01],\n",
       "       [ 1.60259775e+00,  2.93912057e+00],\n",
       "       [-3.38162479e+00, -2.36301516e-01],\n",
       "       [ 5.78337630e+00,  6.68209028e+00],\n",
       "       [ 2.02972370e+00,  1.05040745e+00],\n",
       "       [ 2.27949171e+00,  1.95275226e-01],\n",
       "       [-8.06209136e-01,  1.30349059e+00],\n",
       "       [-1.19183736e+00, -5.56757164e-01],\n",
       "       [ 1.91806245e+00, -4.27468245e-01],\n",
       "       [ 2.01919721e+00, -1.78438246e+00],\n",
       "       [-5.75572155e-01, -9.97551478e-01],\n",
       "       [ 2.66234652e-02, -1.60640815e-02],\n",
       "       [-2.31942387e+00, -7.69407328e-01],\n",
       "       [ 1.71674731e-01, -9.48076409e-02],\n",
       "       [ 2.81832286e+00, -9.14480968e-01],\n",
       "       [ 4.08854413e+00, -4.29461909e-01],\n",
       "       [-1.24446436e+00, -2.89174316e-02],\n",
       "       [-2.55404919e+00, -2.15027956e-01],\n",
       "       [ 9.26092707e-01,  8.28230655e-01],\n",
       "       [-2.37197047e+00, -1.17751295e+00],\n",
       "       [-1.99764225e+00,  9.58361586e-01],\n",
       "       [-7.55008538e-01, -8.78938568e-02],\n",
       "       [ 6.02231612e-01,  1.73435708e-01],\n",
       "       [ 4.01437705e-01, -1.41198973e+00],\n",
       "       [-4.63936165e-01,  1.29187347e+00],\n",
       "       [-2.85483624e+00, -3.52082382e-01],\n",
       "       [ 3.02299800e-01, -9.75710669e-02],\n",
       "       [ 2.42714125e+00,  1.15181307e+00],\n",
       "       [ 2.06798993e+00, -1.53531349e+00],\n",
       "       [ 2.64120583e+00, -2.99736446e+00],\n",
       "       [ 6.17312598e-01, -1.43047723e+00],\n",
       "       [-8.53528944e-01, -6.54485112e-01],\n",
       "       [-8.20631131e-01,  6.39570072e-01],\n",
       "       [-5.51035564e-01, -1.23388618e+00],\n",
       "       [ 4.98524385e-01,  1.39074432e+00],\n",
       "       [-1.88745106e+00, -1.09453015e-01],\n",
       "       [-2.86406392e+00,  4.85997985e-01]])"
      ]
     },
     "execution_count": 15,
     "metadata": {},
     "output_type": "execute_result"
    }
   ],
   "source": [
    "paxis"
   ]
  },
  {
   "cell_type": "code",
   "execution_count": 16,
   "id": "b15ddd29",
   "metadata": {},
   "outputs": [],
   "source": [
    "dbs = DBSCAN(eps=2,min_samples = 2).fit(paxis)"
   ]
  },
  {
   "cell_type": "code",
   "execution_count": 17,
   "id": "48cdd85c",
   "metadata": {},
   "outputs": [
    {
     "data": {
      "text/plain": [
       "array([ 0,  0,  0,  0,  0,  0,  0,  0,  0,  0,  0,  0,  0,  0,  0,  0,  0,\n",
       "        0,  0,  0,  0,  0,  0,  0,  0,  0,  0,  0,  0,  0,  0,  0,  0,  0,\n",
       "        0,  0,  0,  0,  0,  0,  0,  0,  0,  0,  0,  0,  0,  0,  0,  0,  0,\n",
       "        0,  0,  0,  0,  0,  0,  0,  0,  0,  0,  0,  0,  0,  0,  0,  0,  0,\n",
       "        0,  0,  0,  0,  0,  0,  0,  0,  0,  0,  0,  0,  0,  0,  0,  0,  0,\n",
       "        0,  0,  0,  0,  0,  0, -1,  0,  0,  0,  0,  0,  0, -1,  0,  0,  0,\n",
       "        0,  0,  0,  0,  0,  0,  0,  0,  0,  0,  0,  0,  0,  0,  0,  0,  0,\n",
       "        0,  0,  0,  0,  0,  0,  0,  0,  0,  0,  0,  0,  0,  0, -1,  0,  0,\n",
       "        0,  0,  0,  0,  0,  0,  0,  0,  0,  0,  0,  0,  0,  0,  0,  0,  0,\n",
       "        0,  0,  0,  0,  0,  0,  0,  0,  0,  0,  0,  0,  0,  0],\n",
       "      dtype=int64)"
      ]
     },
     "execution_count": 17,
     "metadata": {},
     "output_type": "execute_result"
    }
   ],
   "source": [
    "dbs.labels_"
   ]
  },
  {
   "cell_type": "code",
   "execution_count": 18,
   "id": "12404039",
   "metadata": {},
   "outputs": [
    {
     "data": {
      "text/plain": [
       "array([-2.91302459e+00,  4.29911330e-01, -2.85225077e-01, -2.93242265e+00,\n",
       "        1.03357587e+00,  2.24072616e-02, -1.01583737e-01,  2.34216461e+00,\n",
       "        2.97376366e+00, -1.81486997e-01,  1.26874386e+00,  1.67099640e+00,\n",
       "       -1.12385093e+00,  1.08137420e+00,  5.80025152e-01,  3.14378596e+00,\n",
       "        2.11255447e-01, -2.67231388e+00, -1.56570962e-01, -7.93851561e-01,\n",
       "        9.95867143e-01, -8.82087639e-01,  1.40781361e-01,  2.46008609e+00,\n",
       "        9.06594515e-01, -3.12205344e+00, -2.89897068e+00, -5.82411867e-01,\n",
       "       -2.80790857e+00,  2.54363055e+00, -1.55801452e-01, -3.96496402e+00,\n",
       "       -3.55755520e+00,  9.51656055e-01,  5.74819803e-02,  1.21146120e-01,\n",
       "       -2.09355643e+00, -3.17337012e+00, -1.72567641e+00,  9.37826615e-01,\n",
       "       -2.58170623e+00,  1.14886344e+00,  2.17445492e+00,  2.05326329e+00,\n",
       "        3.01049182e+00, -2.31102923e-01,  9.61833240e-03, -8.48186699e-01,\n",
       "        8.18678445e-02, -1.29342284e+00, -2.47469590e+00,  1.65908340e+00,\n",
       "       -1.88828409e-01,  2.45896019e+00,  2.25427080e+00, -1.42171455e+00,\n",
       "       -2.21366958e+00,  3.21942207e-01,  2.67142195e+00, -2.05416693e+00,\n",
       "        1.77949294e+00,  1.45504799e-01, -6.63503125e-01, -2.96952947e+00,\n",
       "       -2.83361647e+00, -3.22781465e-01, -4.40971727e+00,  1.83916013e+00,\n",
       "        2.48092396e+00, -1.34282579e+00, -9.54750124e-01, -1.06461193e-03,\n",
       "       -1.02922816e+00,  3.66862804e+00,  1.48531666e+00,  2.16580995e+00,\n",
       "        1.86093002e-02,  2.26588199e+00,  1.60142643e-01, -2.93346500e-01,\n",
       "       -1.87470247e+00, -1.23921686e+00,  2.46565870e+00, -3.39969880e-01,\n",
       "       -1.52776995e+00,  1.18883984e+00,  1.17199076e+00, -1.80315140e+00,\n",
       "       -1.77358023e+00,  8.18943051e-01,  1.40978812e+00,  6.91775496e+00,\n",
       "        7.33210319e-01, -2.13600867e+00, -2.97988525e+00,  1.23082842e+00,\n",
       "        1.10860101e+00, -3.41225513e+00,  3.67954260e+00, -1.95392747e+00,\n",
       "        8.99775055e-01, -3.80928795e-01,  5.09539453e-01, -9.44975538e-01,\n",
       "        1.02668389e+00, -2.32870156e-01, -2.92054051e+00, -1.83719774e+00,\n",
       "       -1.04337471e+00, -1.30708985e+00,  3.37915727e+00,  1.81574666e+00,\n",
       "       -3.45016774e+00, -4.91206615e+00,  3.72119513e+00,  1.12738665e+00,\n",
       "       -2.36034718e+00,  1.16378429e+00,  1.17846224e-01, -2.06354519e-02,\n",
       "       -7.82745871e-01,  1.21782754e+00,  1.81406748e+00,  4.24229634e+00,\n",
       "        5.72792704e-01,  1.63761544e-01, -1.67970356e+00, -5.62897632e-01,\n",
       "        8.55935813e-01, -1.91217031e+00,  8.32420187e-01,  1.60259775e+00,\n",
       "       -3.38162479e+00,  5.78337630e+00,  2.02972370e+00,  2.27949171e+00,\n",
       "       -8.06209136e-01, -1.19183736e+00,  1.91806245e+00,  2.01919721e+00,\n",
       "       -5.75572155e-01,  2.66234652e-02, -2.31942387e+00,  1.71674731e-01,\n",
       "        2.81832286e+00,  4.08854413e+00, -1.24446436e+00, -2.55404919e+00,\n",
       "        9.26092707e-01, -2.37197047e+00, -1.99764225e+00, -7.55008538e-01,\n",
       "        6.02231612e-01,  4.01437705e-01, -4.63936165e-01, -2.85483624e+00,\n",
       "        3.02299800e-01,  2.42714125e+00,  2.06798993e+00,  2.64120583e+00,\n",
       "        6.17312598e-01, -8.53528944e-01, -8.20631131e-01, -5.51035564e-01,\n",
       "        4.98524385e-01, -1.88745106e+00, -2.86406392e+00])"
      ]
     },
     "execution_count": 18,
     "metadata": {},
     "output_type": "execute_result"
    }
   ],
   "source": [
    "paxis[:,0]"
   ]
  },
  {
   "cell_type": "code",
   "execution_count": 21,
   "id": "b8d1a41c",
   "metadata": {},
   "outputs": [
    {
     "data": {
      "text/plain": [
       "array([ 9.56205755e-02, -5.88155666e-01, -4.55174413e-01,  1.69555507e+00,\n",
       "        1.36658709e-01, -1.77918658e+00, -5.68251724e-01, -1.98845915e+00,\n",
       "       -7.34688659e-01, -4.02865873e-01, -6.56588363e-01,  5.61162493e-01,\n",
       "       -9.61397405e-01, -4.81969530e-01,  5.35326834e-01,  6.63547921e-01,\n",
       "        6.99242662e-01,  4.18172125e-01,  7.77395617e-01, -1.20261085e-01,\n",
       "       -9.71888439e-01,  4.57368180e-01, -2.15107731e+00,  1.64540436e-02,\n",
       "        3.02776054e-02,  3.87749688e-02, -4.22663328e-01,  8.94820332e-01,\n",
       "        7.86488969e-02, -1.72709470e+00,  3.51235458e-01,  3.86619319e-01,\n",
       "        1.28912809e+00, -1.07642827e+00, -1.18999652e+00, -1.76890914e+00,\n",
       "        3.43600988e-01,  1.05038163e+00,  2.17634895e+00, -1.35047238e+00,\n",
       "        1.20787342e+00, -8.44812046e-01, -4.51044737e-03,  4.23198280e-01,\n",
       "       -8.65548729e-01, -8.80641302e-01, -1.04522097e+00, -8.19818902e-01,\n",
       "       -5.67803943e-01,  2.36369455e+00, -6.18025236e-01,  1.02156447e+00,\n",
       "        1.07176458e+00, -1.07614294e+00, -1.86663813e+00,  3.19723358e-01,\n",
       "        2.23495896e-01, -5.18255225e-01, -1.27360990e+00,  3.80034393e-01,\n",
       "       -1.76539693e+00, -4.31336366e-01, -6.13910837e-01,  7.28533786e-01,\n",
       "       -9.11281950e-02,  1.36134136e+00,  1.74223049e+00,  1.27296493e+00,\n",
       "       -6.34701926e-01, -5.35138946e-01, -7.32361786e-01, -1.33434959e+00,\n",
       "       -2.83269323e-01,  1.72949317e+00, -1.04922436e+00, -1.77248548e+00,\n",
       "       -2.38961304e-01, -2.43559383e+00,  5.41065172e-01, -2.37525434e-01,\n",
       "       -1.71029967e-01,  3.69138411e-01,  8.80497785e-02,  1.29819641e+00,\n",
       "        5.45786891e-01,  1.62040035e-01, -2.56295112e-01,  2.03785098e+00,\n",
       "        1.05339867e+00,  3.89841660e-01,  7.29833198e-01,  4.84984369e+00,\n",
       "       -9.48674314e-02,  3.42733042e-01,  2.16622419e-01,  1.60174864e+00,\n",
       "        1.00931426e+00,  5.61468514e-01,  4.76548605e+00,  1.38338452e+00,\n",
       "        4.16479781e-01,  1.01773629e-01,  1.61658340e-01,  5.29799562e-01,\n",
       "       -2.57641566e-01, -2.81027769e-01,  8.93270294e-01, -1.61366899e+00,\n",
       "        1.00284112e+00, -7.89048631e-01,  1.15702442e-01, -1.58472369e+00,\n",
       "        9.69922452e-01, -9.44986846e-02, -1.44725498e+00,  4.91611136e-01,\n",
       "       -4.79399646e-01,  1.11527620e+00,  3.61031140e-01, -1.08661741e+00,\n",
       "       -9.64980905e-02, -6.59168961e-01, -1.45088654e+00, -1.95603674e-01,\n",
       "       -6.37384843e-01, -1.06667848e+00, -1.00162862e+00, -2.21043960e-02,\n",
       "       -1.83440759e-01,  9.15599347e-02, -8.69325996e-01,  2.93912057e+00,\n",
       "       -2.36301516e-01,  6.68209028e+00,  1.05040745e+00,  1.95275226e-01,\n",
       "        1.30349059e+00, -5.56757164e-01, -4.27468245e-01, -1.78438246e+00,\n",
       "       -9.97551478e-01, -1.60640815e-02, -7.69407328e-01, -9.48076409e-02,\n",
       "       -9.14480968e-01, -4.29461909e-01, -2.89174316e-02, -2.15027956e-01,\n",
       "        8.28230655e-01, -1.17751295e+00,  9.58361586e-01, -8.78938568e-02,\n",
       "        1.73435708e-01, -1.41198973e+00,  1.29187347e+00, -3.52082382e-01,\n",
       "       -9.75710669e-02,  1.15181307e+00, -1.53531349e+00, -2.99736446e+00,\n",
       "       -1.43047723e+00, -6.54485112e-01,  6.39570072e-01, -1.23388618e+00,\n",
       "        1.39074432e+00, -1.09453015e-01,  4.85997985e-01])"
      ]
     },
     "execution_count": 21,
     "metadata": {},
     "output_type": "execute_result"
    }
   ],
   "source": [
    "paxis[:,1]"
   ]
  },
  {
   "cell_type": "code",
   "execution_count": 23,
   "id": "5df5ba82",
   "metadata": {},
   "outputs": [
    {
     "data": {
      "image/png": "[encoded data removed]",
      "text/plain": [
       "<Figure size 1000x1000 with 1 Axes>"
      ]
     },
     "metadata": {},
     "output_type": "display_data"
    }
   ],
   "source": [
    "plt.scatter(paxis[:,0],paxis[:,1],c = dbs.labels_)\n",
    "plt.xlabel('PCA -1',fontsize=14)\n",
    "plt.ylabel('PCA -2',fontsize=14)\n",
    "plt.show()"
   ]
  },
  {
   "cell_type": "code",
   "execution_count": null,
   "id": "93137530",
   "metadata": {},
   "outputs": [],
   "source": []
  }
 ],
 "metadata": {
  "kernelspec": {
   "display_name": "Python 3 (ipykernel)",
   "language": "python",
   "name": "python3"
  },
  "language_info": {
   "codemirror_mode": {
    "name": "ipython",
    "version": 3
   },
   "file_extension": ".py",
   "mimetype": "text/x-python",
   "name": "python",
   "nbconvert_exporter": "python",
   "pygments_lexer": "ipython3",
   "version": "3.9.7"
  }
 },
 "nbformat": 4,
 "nbformat_minor": 5
}
