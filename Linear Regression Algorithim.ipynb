{
 "cells": [
  {
   "cell_type": "code",
   "execution_count": 2,
   "id": "0f49583e",
   "metadata": {},
   "outputs": [],
   "source": [
    "import pandas as pd \n",
    "import numpy as np \n",
    "import matplotlib.pyplot as plt "
   ]
  },
  {
   "cell_type": "code",
   "execution_count": 3,
   "id": "c6c320b5",
   "metadata": {},
   "outputs": [],
   "source": [
    "train_df = pd.read_csv(r\"C:\\Users\\sande\\OneDrive\\Desktop\\MMSO\\Machine Learning\\train.csv\")"
   ]
  },
  {
   "cell_type": "code",
   "execution_count": 4,
   "id": "9f953dff",
   "metadata": {},
   "outputs": [
    {
     "data": {
      "text/html": [
       "<div>\n",
       "<style scoped>\n",
       "    .dataframe tbody tr th:only-of-type {\n",
       "        vertical-align: middle;\n",
       "    }\n",
       "\n",
       "    .dataframe tbody tr th {\n",
       "        vertical-align: top;\n",
       "    }\n",
       "\n",
       "    .dataframe thead th {\n",
       "        text-align: right;\n",
       "    }\n",
       "</style>\n",
       "<table border=\"1\" class=\"dataframe\">\n",
       "  <thead>\n",
       "    <tr style=\"text-align: right;\">\n",
       "      <th></th>\n",
       "      <th>x</th>\n",
       "      <th>y</th>\n",
       "    </tr>\n",
       "  </thead>\n",
       "  <tbody>\n",
       "    <tr>\n",
       "      <th>0</th>\n",
       "      <td>24.0</td>\n",
       "      <td>21.549452</td>\n",
       "    </tr>\n",
       "    <tr>\n",
       "      <th>1</th>\n",
       "      <td>50.0</td>\n",
       "      <td>47.464463</td>\n",
       "    </tr>\n",
       "    <tr>\n",
       "      <th>2</th>\n",
       "      <td>15.0</td>\n",
       "      <td>17.218656</td>\n",
       "    </tr>\n",
       "    <tr>\n",
       "      <th>3</th>\n",
       "      <td>38.0</td>\n",
       "      <td>36.586398</td>\n",
       "    </tr>\n",
       "    <tr>\n",
       "      <th>4</th>\n",
       "      <td>87.0</td>\n",
       "      <td>87.288984</td>\n",
       "    </tr>\n",
       "    <tr>\n",
       "      <th>...</th>\n",
       "      <td>...</td>\n",
       "      <td>...</td>\n",
       "    </tr>\n",
       "    <tr>\n",
       "      <th>695</th>\n",
       "      <td>58.0</td>\n",
       "      <td>58.595006</td>\n",
       "    </tr>\n",
       "    <tr>\n",
       "      <th>696</th>\n",
       "      <td>93.0</td>\n",
       "      <td>94.625094</td>\n",
       "    </tr>\n",
       "    <tr>\n",
       "      <th>697</th>\n",
       "      <td>82.0</td>\n",
       "      <td>88.603770</td>\n",
       "    </tr>\n",
       "    <tr>\n",
       "      <th>698</th>\n",
       "      <td>66.0</td>\n",
       "      <td>63.648685</td>\n",
       "    </tr>\n",
       "    <tr>\n",
       "      <th>699</th>\n",
       "      <td>97.0</td>\n",
       "      <td>94.975266</td>\n",
       "    </tr>\n",
       "  </tbody>\n",
       "</table>\n",
       "<p>700 rows × 2 columns</p>\n",
       "</div>"
      ],
      "text/plain": [
       "        x          y\n",
       "0    24.0  21.549452\n",
       "1    50.0  47.464463\n",
       "2    15.0  17.218656\n",
       "3    38.0  36.586398\n",
       "4    87.0  87.288984\n",
       "..    ...        ...\n",
       "695  58.0  58.595006\n",
       "696  93.0  94.625094\n",
       "697  82.0  88.603770\n",
       "698  66.0  63.648685\n",
       "699  97.0  94.975266\n",
       "\n",
       "[700 rows x 2 columns]"
      ]
     },
     "execution_count": 4,
     "metadata": {},
     "output_type": "execute_result"
    }
   ],
   "source": [
    "train_df"
   ]
  },
  {
   "cell_type": "code",
   "execution_count": 5,
   "id": "7ce3da3a",
   "metadata": {},
   "outputs": [],
   "source": [
    "Nan_values = train_df[train_df.isnull().any(axis=1)]"
   ]
  },
  {
   "cell_type": "code",
   "execution_count": 6,
   "id": "f8d85341",
   "metadata": {},
   "outputs": [
    {
     "data": {
      "text/html": [
       "<div>\n",
       "<style scoped>\n",
       "    .dataframe tbody tr th:only-of-type {\n",
       "        vertical-align: middle;\n",
       "    }\n",
       "\n",
       "    .dataframe tbody tr th {\n",
       "        vertical-align: top;\n",
       "    }\n",
       "\n",
       "    .dataframe thead th {\n",
       "        text-align: right;\n",
       "    }\n",
       "</style>\n",
       "<table border=\"1\" class=\"dataframe\">\n",
       "  <thead>\n",
       "    <tr style=\"text-align: right;\">\n",
       "      <th></th>\n",
       "      <th>x</th>\n",
       "      <th>y</th>\n",
       "    </tr>\n",
       "  </thead>\n",
       "  <tbody>\n",
       "    <tr>\n",
       "      <th>213</th>\n",
       "      <td>3530.157369</td>\n",
       "      <td>NaN</td>\n",
       "    </tr>\n",
       "  </tbody>\n",
       "</table>\n",
       "</div>"
      ],
      "text/plain": [
       "               x   y\n",
       "213  3530.157369 NaN"
      ]
     },
     "execution_count": 6,
     "metadata": {},
     "output_type": "execute_result"
    }
   ],
   "source": [
    "Nan_values"
   ]
  },
  {
   "cell_type": "code",
   "execution_count": 7,
   "id": "11f10bb0",
   "metadata": {},
   "outputs": [],
   "source": [
    "df = train_df.drop(213)  # Dropping the Nan value from the data set"
   ]
  },
  {
   "cell_type": "code",
   "execution_count": 8,
   "id": "e993ed35",
   "metadata": {},
   "outputs": [
    {
     "data": {
      "text/plain": [
       "<matplotlib.collections.PathCollection at 0x287fa47bc70>"
      ]
     },
     "execution_count": 8,
     "metadata": {},
     "output_type": "execute_result"
    },
    {
     "data": {
      "image/png": "[encoded data removed]",
      "text/plain": [
       "<Figure size 640x480 with 1 Axes>"
      ]
     },
     "metadata": {},
     "output_type": "display_data"
    }
   ],
   "source": [
    "plt.scatter(df.x,df.y)  #Scatter plot of all the data point in our training data set"
   ]
  },
  {
   "cell_type": "code",
   "execution_count": 9,
   "id": "d392486f",
   "metadata": {},
   "outputs": [],
   "source": [
    "# Performing gradient descent algorithim to optimize the sqaured error function Mean Squared Error Function = ((Y - (a*X+b))**2)\n",
    "def grad_desc(a_val,b_val,df,alpha):\n",
    "    a_grad = 0\n",
    "    b_grad  = 0 \n",
    "    n = len(df)\n",
    "    for i in range(n):\n",
    "        x1 = df.iloc[i].x\n",
    "        x2 = df.iloc[i].y\n",
    "        a_grad = a_grad + -(2/n)*x1*(x2-(a_val*x1+b_val))# derivative of squared mean error functin with respect to a \n",
    "        b_grad = b_grad + -(2/n)*(x2-(a_val*x1+b_val))# derivatibe of squared mean error function with respect to b\n",
    "    a = a_val -a_grad*alpha\n",
    "    b = b_val -b_grad*alpha\n",
    "    return a, b"
   ]
  },
  {
   "cell_type": "code",
   "execution_count": 10,
   "id": "47d4c78d",
   "metadata": {},
   "outputs": [
    {
     "name": "stdout",
     "output_type": "stream",
     "text": [
      "0.9968409870811714 0.01487927194137477\n"
     ]
    }
   ],
   "source": [
    "a = 0 # Initial Vlue of a \n",
    "b= 0 # Initial Value of b\n",
    "it = 90 # Iterations\n",
    "alpha = 0.00001 # Step length \n",
    "for i in range (it):\n",
    "    a,b = grad_desc(a,b,df,alpha)\n",
    "print(a,b)"
   ]
  },
  {
   "cell_type": "code",
   "execution_count": 11,
   "id": "e2484484",
   "metadata": {},
   "outputs": [],
   "source": [
    "x = df.x"
   ]
  },
  {
   "cell_type": "code",
   "execution_count": 27,
   "id": "4ddc2d8e",
   "metadata": {},
   "outputs": [
    {
     "data": {
      "image/png": "[encoded data removed]",
      "text/plain": [
       "<Figure size 640x480 with 1 Axes>"
      ]
     },
     "metadata": {},
     "output_type": "display_data"
    }
   ],
   "source": [
    "y = a*x + b\n",
    "plt.plot(x,y,color = \"red\")\n",
    "plt.scatter(df.x,df.y,color = 'blue')\n",
    "plt.show()"
   ]
  },
  {
   "cell_type": "code",
   "execution_count": 13,
   "id": "90db7f06",
   "metadata": {},
   "outputs": [],
   "source": [
    "test_df = pd.read_csv(r\"C:\\Users\\sande\\OneDrive\\Desktop\\MMSO\\Machine Learning\\test.csv\")"
   ]
  },
  {
   "cell_type": "code",
   "execution_count": 14,
   "id": "c1dfc084",
   "metadata": {},
   "outputs": [],
   "source": [
    "x_test = test_df.x\n",
    "y_test = test_df.y\n"
   ]
  },
  {
   "cell_type": "code",
   "execution_count": 15,
   "id": "c9983d05",
   "metadata": {},
   "outputs": [],
   "source": [
    "y_reg = a*x_test + b"
   ]
  },
  {
   "cell_type": "code",
   "execution_count": 16,
   "id": "c043b80b",
   "metadata": {},
   "outputs": [],
   "source": [
    "test_df['Y_val'] = y_reg\n",
    "test_df['dev'] = abs(test_df['y']-test_df['Y_val'])"
   ]
  },
  {
   "cell_type": "code",
   "execution_count": 17,
   "id": "d1154e6e",
   "metadata": {},
   "outputs": [
    {
     "data": {
      "text/html": [
       "<div>\n",
       "<style scoped>\n",
       "    .dataframe tbody tr th:only-of-type {\n",
       "        vertical-align: middle;\n",
       "    }\n",
       "\n",
       "    .dataframe tbody tr th {\n",
       "        vertical-align: top;\n",
       "    }\n",
       "\n",
       "    .dataframe thead th {\n",
       "        text-align: right;\n",
       "    }\n",
       "</style>\n",
       "<table border=\"1\" class=\"dataframe\">\n",
       "  <thead>\n",
       "    <tr style=\"text-align: right;\">\n",
       "      <th></th>\n",
       "      <th>x</th>\n",
       "      <th>y</th>\n",
       "      <th>Y_val</th>\n",
       "      <th>dev</th>\n",
       "    </tr>\n",
       "  </thead>\n",
       "  <tbody>\n",
       "    <tr>\n",
       "      <th>0</th>\n",
       "      <td>77</td>\n",
       "      <td>79.775152</td>\n",
       "      <td>76.771635</td>\n",
       "      <td>3.003517</td>\n",
       "    </tr>\n",
       "    <tr>\n",
       "      <th>1</th>\n",
       "      <td>21</td>\n",
       "      <td>23.177279</td>\n",
       "      <td>20.948540</td>\n",
       "      <td>2.228739</td>\n",
       "    </tr>\n",
       "    <tr>\n",
       "      <th>2</th>\n",
       "      <td>22</td>\n",
       "      <td>25.609262</td>\n",
       "      <td>21.945381</td>\n",
       "      <td>3.663881</td>\n",
       "    </tr>\n",
       "    <tr>\n",
       "      <th>3</th>\n",
       "      <td>20</td>\n",
       "      <td>17.857388</td>\n",
       "      <td>19.951699</td>\n",
       "      <td>2.094311</td>\n",
       "    </tr>\n",
       "    <tr>\n",
       "      <th>4</th>\n",
       "      <td>36</td>\n",
       "      <td>41.849864</td>\n",
       "      <td>35.901155</td>\n",
       "      <td>5.948710</td>\n",
       "    </tr>\n",
       "    <tr>\n",
       "      <th>...</th>\n",
       "      <td>...</td>\n",
       "      <td>...</td>\n",
       "      <td>...</td>\n",
       "      <td>...</td>\n",
       "    </tr>\n",
       "    <tr>\n",
       "      <th>295</th>\n",
       "      <td>71</td>\n",
       "      <td>68.545888</td>\n",
       "      <td>70.790589</td>\n",
       "      <td>2.244701</td>\n",
       "    </tr>\n",
       "    <tr>\n",
       "      <th>296</th>\n",
       "      <td>46</td>\n",
       "      <td>47.334876</td>\n",
       "      <td>45.869565</td>\n",
       "      <td>1.465312</td>\n",
       "    </tr>\n",
       "    <tr>\n",
       "      <th>297</th>\n",
       "      <td>55</td>\n",
       "      <td>54.090637</td>\n",
       "      <td>54.841134</td>\n",
       "      <td>0.750497</td>\n",
       "    </tr>\n",
       "    <tr>\n",
       "      <th>298</th>\n",
       "      <td>62</td>\n",
       "      <td>63.297171</td>\n",
       "      <td>61.819020</td>\n",
       "      <td>1.478150</td>\n",
       "    </tr>\n",
       "    <tr>\n",
       "      <th>299</th>\n",
       "      <td>47</td>\n",
       "      <td>52.459467</td>\n",
       "      <td>46.866406</td>\n",
       "      <td>5.593061</td>\n",
       "    </tr>\n",
       "  </tbody>\n",
       "</table>\n",
       "<p>300 rows × 4 columns</p>\n",
       "</div>"
      ],
      "text/plain": [
       "      x          y      Y_val       dev\n",
       "0    77  79.775152  76.771635  3.003517\n",
       "1    21  23.177279  20.948540  2.228739\n",
       "2    22  25.609262  21.945381  3.663881\n",
       "3    20  17.857388  19.951699  2.094311\n",
       "4    36  41.849864  35.901155  5.948710\n",
       "..   ..        ...        ...       ...\n",
       "295  71  68.545888  70.790589  2.244701\n",
       "296  46  47.334876  45.869565  1.465312\n",
       "297  55  54.090637  54.841134  0.750497\n",
       "298  62  63.297171  61.819020  1.478150\n",
       "299  47  52.459467  46.866406  5.593061\n",
       "\n",
       "[300 rows x 4 columns]"
      ]
     },
     "execution_count": 17,
     "metadata": {},
     "output_type": "execute_result"
    }
   ],
   "source": [
    "test_df"
   ]
  },
  {
   "cell_type": "code",
   "execution_count": 18,
   "id": "129247bc",
   "metadata": {},
   "outputs": [],
   "source": [
    "dev = test_df.dev"
   ]
  },
  {
   "cell_type": "code",
   "execution_count": 19,
   "id": "f4ba4a91",
   "metadata": {},
   "outputs": [
    {
     "name": "stdout",
     "output_type": "stream",
     "text": [
      "3.0957817759961537 0.9395414766786486\n"
     ]
    }
   ],
   "source": [
    "rmse_err = np.sqrt(np.mean((dev)**2)) # Squared Root Mean Error \n",
    "accu = 1 - rmse_err/np.mean(y_test)  # Accuracy \n",
    "print(rmse_err,accu)\n",
    "# Rmse is 3.095 and Accuracy is 93.95 %"
   ]
  },
  {
   "cell_type": "code",
   "execution_count": 20,
   "id": "41aa5a48",
   "metadata": {},
   "outputs": [],
   "source": [
    "error = np.mean(dev)"
   ]
  },
  {
   "cell_type": "code",
   "execution_count": 21,
   "id": "ff775c2b",
   "metadata": {},
   "outputs": [],
   "source": [
    "y_reg = a*x_test + b + error"
   ]
  },
  {
   "cell_type": "code",
   "execution_count": 22,
   "id": "daae4a96",
   "metadata": {},
   "outputs": [
    {
     "data": {
      "text/plain": [
       "0      79.203410\n",
       "1      23.380315\n",
       "2      24.377156\n",
       "3      22.383474\n",
       "4      38.332929\n",
       "         ...    \n",
       "295    73.222364\n",
       "296    48.301339\n",
       "297    57.272908\n",
       "298    64.250795\n",
       "299    49.298180\n",
       "Name: x, Length: 300, dtype: float64"
      ]
     },
     "execution_count": 22,
     "metadata": {},
     "output_type": "execute_result"
    }
   ],
   "source": [
    "y_reg"
   ]
  },
  {
   "cell_type": "code",
   "execution_count": 23,
   "id": "c06db473",
   "metadata": {},
   "outputs": [],
   "source": [
    "test_df['Y_val'] = y_reg\n",
    "test_df['dev'] = abs(test_df['y']-test_df['Y_val'])"
   ]
  },
  {
   "cell_type": "code",
   "execution_count": 24,
   "id": "fefa71c9",
   "metadata": {},
   "outputs": [
    {
     "data": {
      "text/html": [
       "<div>\n",
       "<style scoped>\n",
       "    .dataframe tbody tr th:only-of-type {\n",
       "        vertical-align: middle;\n",
       "    }\n",
       "\n",
       "    .dataframe tbody tr th {\n",
       "        vertical-align: top;\n",
       "    }\n",
       "\n",
       "    .dataframe thead th {\n",
       "        text-align: right;\n",
       "    }\n",
       "</style>\n",
       "<table border=\"1\" class=\"dataframe\">\n",
       "  <thead>\n",
       "    <tr style=\"text-align: right;\">\n",
       "      <th></th>\n",
       "      <th>x</th>\n",
       "      <th>y</th>\n",
       "      <th>Y_val</th>\n",
       "      <th>dev</th>\n",
       "    </tr>\n",
       "  </thead>\n",
       "  <tbody>\n",
       "    <tr>\n",
       "      <th>0</th>\n",
       "      <td>77</td>\n",
       "      <td>79.775152</td>\n",
       "      <td>79.203410</td>\n",
       "      <td>0.571742</td>\n",
       "    </tr>\n",
       "    <tr>\n",
       "      <th>1</th>\n",
       "      <td>21</td>\n",
       "      <td>23.177279</td>\n",
       "      <td>23.380315</td>\n",
       "      <td>0.203036</td>\n",
       "    </tr>\n",
       "    <tr>\n",
       "      <th>2</th>\n",
       "      <td>22</td>\n",
       "      <td>25.609262</td>\n",
       "      <td>24.377156</td>\n",
       "      <td>1.232106</td>\n",
       "    </tr>\n",
       "    <tr>\n",
       "      <th>3</th>\n",
       "      <td>20</td>\n",
       "      <td>17.857388</td>\n",
       "      <td>22.383474</td>\n",
       "      <td>4.526085</td>\n",
       "    </tr>\n",
       "    <tr>\n",
       "      <th>4</th>\n",
       "      <td>36</td>\n",
       "      <td>41.849864</td>\n",
       "      <td>38.332929</td>\n",
       "      <td>3.516935</td>\n",
       "    </tr>\n",
       "    <tr>\n",
       "      <th>...</th>\n",
       "      <td>...</td>\n",
       "      <td>...</td>\n",
       "      <td>...</td>\n",
       "      <td>...</td>\n",
       "    </tr>\n",
       "    <tr>\n",
       "      <th>295</th>\n",
       "      <td>71</td>\n",
       "      <td>68.545888</td>\n",
       "      <td>73.222364</td>\n",
       "      <td>4.676476</td>\n",
       "    </tr>\n",
       "    <tr>\n",
       "      <th>296</th>\n",
       "      <td>46</td>\n",
       "      <td>47.334876</td>\n",
       "      <td>48.301339</td>\n",
       "      <td>0.966463</td>\n",
       "    </tr>\n",
       "    <tr>\n",
       "      <th>297</th>\n",
       "      <td>55</td>\n",
       "      <td>54.090637</td>\n",
       "      <td>57.272908</td>\n",
       "      <td>3.182271</td>\n",
       "    </tr>\n",
       "    <tr>\n",
       "      <th>298</th>\n",
       "      <td>62</td>\n",
       "      <td>63.297171</td>\n",
       "      <td>64.250795</td>\n",
       "      <td>0.953624</td>\n",
       "    </tr>\n",
       "    <tr>\n",
       "      <th>299</th>\n",
       "      <td>47</td>\n",
       "      <td>52.459467</td>\n",
       "      <td>49.298180</td>\n",
       "      <td>3.161287</td>\n",
       "    </tr>\n",
       "  </tbody>\n",
       "</table>\n",
       "<p>300 rows × 4 columns</p>\n",
       "</div>"
      ],
      "text/plain": [
       "      x          y      Y_val       dev\n",
       "0    77  79.775152  79.203410  0.571742\n",
       "1    21  23.177279  23.380315  0.203036\n",
       "2    22  25.609262  24.377156  1.232106\n",
       "3    20  17.857388  22.383474  4.526085\n",
       "4    36  41.849864  38.332929  3.516935\n",
       "..   ..        ...        ...       ...\n",
       "295  71  68.545888  73.222364  4.676476\n",
       "296  46  47.334876  48.301339  0.966463\n",
       "297  55  54.090637  57.272908  3.182271\n",
       "298  62  63.297171  64.250795  0.953624\n",
       "299  47  52.459467  49.298180  3.161287\n",
       "\n",
       "[300 rows x 4 columns]"
      ]
     },
     "execution_count": 24,
     "metadata": {},
     "output_type": "execute_result"
    }
   ],
   "source": [
    "test_df"
   ]
  },
  {
   "cell_type": "code",
   "execution_count": 25,
   "id": "727d3131",
   "metadata": {},
   "outputs": [
    {
     "data": {
      "text/plain": [
       "2.4317745969363505"
      ]
     },
     "execution_count": 25,
     "metadata": {},
     "output_type": "execute_result"
    }
   ],
   "source": [
    "np.mean(dev)"
   ]
  },
  {
   "cell_type": "code",
   "execution_count": 26,
   "id": "01f5103f",
   "metadata": {},
   "outputs": [
    {
     "data": {
      "text/plain": [
       "2.4317745969363505"
      ]
     },
     "execution_count": 26,
     "metadata": {},
     "output_type": "execute_result"
    }
   ],
   "source": [
    "error"
   ]
  }
 ],
 "metadata": {
  "kernelspec": {
   "display_name": "Python 3 (ipykernel)",
   "language": "python",
   "name": "python3"
  },
  "language_info": {
   "codemirror_mode": {
    "name": "ipython",
    "version": 3
   },
   "file_extension": ".py",
   "mimetype": "text/x-python",
   "name": "python",
   "nbconvert_exporter": "python",
   "pygments_lexer": "ipython3",
   "version": "3.9.7"
  }
 },
 "nbformat": 4,
 "nbformat_minor": 5
}
